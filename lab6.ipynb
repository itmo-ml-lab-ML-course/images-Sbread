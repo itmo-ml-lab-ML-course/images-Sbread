{
 "cells": [
  {
   "cell_type": "code",
   "execution_count": 1,
   "id": "1c873eef-15ca-427e-9c74-63bc0af77c22",
   "metadata": {},
   "outputs": [],
   "source": [
    "import numpy as np\n",
    "import pandas as pd\n",
    "import os\n",
    "import tensorflow as tf\n",
    "from tensorflow.keras import layers, models\n",
    "from tensorflow.keras.preprocessing import image\n",
    "from tensorflow.keras.preprocessing.image import img_to_array\n",
    "from sklearn.model_selection import train_test_split\n",
    "import matplotlib.pyplot as plt"
   ]
  },
  {
   "cell_type": "code",
   "execution_count": 2,
   "id": "5d2b3961-f615-4d03-836f-f8f8b89d89ef",
   "metadata": {},
   "outputs": [],
   "source": [
    "df = pd.read_csv(\"./images/Training_set.csv\")\n",
    "df['label'] = pd.Categorical(df['label']).codes"
   ]
  },
  {
   "cell_type": "code",
   "execution_count": 3,
   "id": "105f0b4a-6ead-46a2-ae55-8ec2235d5f03",
   "metadata": {},
   "outputs": [
    {
     "name": "stdout",
     "output_type": "stream",
     "text": [
      "label\n",
      "45    131\n",
      "64    107\n",
      "5     100\n",
      "12     99\n",
      "23     97\n",
      "     ... \n",
      "2      74\n",
      "30     73\n",
      "39     73\n",
      "24     72\n",
      "72     71\n",
      "Name: count, Length: 75, dtype: int64\n"
     ]
    }
   ],
   "source": [
    "value_counts = df['label'].value_counts()\n",
    "\n",
    "print(value_counts)"
   ]
  },
  {
   "cell_type": "code",
   "execution_count": 4,
   "id": "26de3689-b405-4b9f-b100-c29caa389a02",
   "metadata": {},
   "outputs": [],
   "source": [
    "def get_path(r_path):\n",
    "    return \"./images/train/\" + r_path"
   ]
  },
  {
   "cell_type": "code",
   "execution_count": 5,
   "id": "d85d7661-5069-4b95-8b1f-7c96ea11ef4e",
   "metadata": {},
   "outputs": [],
   "source": [
    "def load_and_preprocess_image(image_path):\n",
    "    img = image.load_img(image_path, target_size=(224, 224))\n",
    "    img_array = img_to_array(img)\n",
    "    img_array = img_array / 255.0  # Нормализация значений пикселей в диапазоне [0, 1]\n",
    "    return img_array"
   ]
  },
  {
   "cell_type": "code",
   "execution_count": 6,
   "id": "6676a45c-6e4e-4812-8158-769afcee170b",
   "metadata": {},
   "outputs": [],
   "source": [
    "X_train_filenames, X_test_filenames, y_train, y_test = train_test_split(df['filename'], df['label'], test_size=0.2, random_state=42)"
   ]
  },
  {
   "cell_type": "code",
   "execution_count": 7,
   "id": "d501cf11-3b02-4018-a52c-dbded1c34c54",
   "metadata": {},
   "outputs": [],
   "source": [
    "train_images = np.array([load_and_preprocess_image(get_path(image_name)) for image_name in X_train_filenames])\n",
    "test_images = np.array([load_and_preprocess_image(get_path(image_name)) for image_name in X_test_filenames])"
   ]
  },
  {
   "cell_type": "code",
   "execution_count": 8,
   "id": "22dbb8ee-1716-4672-9bd2-06b014e09d5b",
   "metadata": {},
   "outputs": [],
   "source": [
    "train_images = tf.convert_to_tensor(train_images)\n",
    "test_images = tf.convert_to_tensor(test_images)"
   ]
  },
  {
   "cell_type": "code",
   "execution_count": 9,
   "id": "da946f12-82ab-451b-a092-2c4a76367a56",
   "metadata": {},
   "outputs": [
    {
     "name": "stderr",
     "output_type": "stream",
     "text": [
      "C:\\Users\\besto\\AppData\\Local\\Programs\\Python\\Python39\\lib\\site-packages\\keras\\src\\layers\\convolutional\\base_conv.py:99: UserWarning: Do not pass an `input_shape`/`input_dim` argument to a layer. When using Sequential models, prefer using an `Input(shape)` object as the first layer in the model instead.\n",
      "  super().__init__(\n"
     ]
    },
    {
     "name": "stdout",
     "output_type": "stream",
     "text": [
      "Epoch 1/30\n",
      "\u001b[1m163/163\u001b[0m \u001b[32m━━━━━━━━━━━━━━━━━━━━\u001b[0m\u001b[37m\u001b[0m \u001b[1m58s\u001b[0m 346ms/step - accuracy: 0.0247 - loss: 4.5137\n",
      "Epoch 2/30\n",
      "\u001b[1m163/163\u001b[0m \u001b[32m━━━━━━━━━━━━━━━━━━━━\u001b[0m\u001b[37m\u001b[0m \u001b[1m56s\u001b[0m 344ms/step - accuracy: 0.2314 - loss: 3.1505\n",
      "Epoch 3/30\n",
      "\u001b[1m163/163\u001b[0m \u001b[32m━━━━━━━━━━━━━━━━━━━━\u001b[0m\u001b[37m\u001b[0m \u001b[1m56s\u001b[0m 345ms/step - accuracy: 0.5036 - loss: 1.8936\n",
      "Epoch 4/30\n",
      "\u001b[1m163/163\u001b[0m \u001b[32m━━━━━━━━━━━━━━━━━━━━\u001b[0m\u001b[37m\u001b[0m \u001b[1m56s\u001b[0m 344ms/step - accuracy: 0.7859 - loss: 0.8099\n",
      "Epoch 5/30\n",
      "\u001b[1m163/163\u001b[0m \u001b[32m━━━━━━━━━━━━━━━━━━━━\u001b[0m\u001b[37m\u001b[0m \u001b[1m57s\u001b[0m 347ms/step - accuracy: 0.9270 - loss: 0.2727\n",
      "Epoch 6/30\n",
      "\u001b[1m163/163\u001b[0m \u001b[32m━━━━━━━━━━━━━━━━━━━━\u001b[0m\u001b[37m\u001b[0m \u001b[1m60s\u001b[0m 369ms/step - accuracy: 0.9703 - loss: 0.1136\n",
      "Epoch 7/30\n",
      "\u001b[1m163/163\u001b[0m \u001b[32m━━━━━━━━━━━━━━━━━━━━\u001b[0m\u001b[37m\u001b[0m \u001b[1m60s\u001b[0m 369ms/step - accuracy: 0.9880 - loss: 0.0573\n",
      "Epoch 8/30\n",
      "\u001b[1m163/163\u001b[0m \u001b[32m━━━━━━━━━━━━━━━━━━━━\u001b[0m\u001b[37m\u001b[0m \u001b[1m58s\u001b[0m 355ms/step - accuracy: 0.9932 - loss: 0.0299\n",
      "Epoch 9/30\n",
      "\u001b[1m163/163\u001b[0m \u001b[32m━━━━━━━━━━━━━━━━━━━━\u001b[0m\u001b[37m\u001b[0m \u001b[1m56s\u001b[0m 345ms/step - accuracy: 0.9914 - loss: 0.0513\n",
      "Epoch 10/30\n",
      "\u001b[1m163/163\u001b[0m \u001b[32m━━━━━━━━━━━━━━━━━━━━\u001b[0m\u001b[37m\u001b[0m \u001b[1m56s\u001b[0m 345ms/step - accuracy: 0.9981 - loss: 0.0110\n",
      "Epoch 11/30\n",
      "\u001b[1m163/163\u001b[0m \u001b[32m━━━━━━━━━━━━━━━━━━━━\u001b[0m\u001b[37m\u001b[0m \u001b[1m57s\u001b[0m 347ms/step - accuracy: 0.9994 - loss: 0.0045\n",
      "Epoch 12/30\n",
      "\u001b[1m163/163\u001b[0m \u001b[32m━━━━━━━━━━━━━━━━━━━━\u001b[0m\u001b[37m\u001b[0m \u001b[1m56s\u001b[0m 345ms/step - accuracy: 1.0000 - loss: 0.0014\n",
      "Epoch 13/30\n",
      "\u001b[1m163/163\u001b[0m \u001b[32m━━━━━━━━━━━━━━━━━━━━\u001b[0m\u001b[37m\u001b[0m \u001b[1m56s\u001b[0m 345ms/step - accuracy: 1.0000 - loss: 2.3022e-04\n",
      "Epoch 14/30\n",
      "\u001b[1m163/163\u001b[0m \u001b[32m━━━━━━━━━━━━━━━━━━━━\u001b[0m\u001b[37m\u001b[0m \u001b[1m57s\u001b[0m 346ms/step - accuracy: 1.0000 - loss: 1.3667e-04\n",
      "Epoch 15/30\n",
      "\u001b[1m163/163\u001b[0m \u001b[32m━━━━━━━━━━━━━━━━━━━━\u001b[0m\u001b[37m\u001b[0m \u001b[1m57s\u001b[0m 348ms/step - accuracy: 1.0000 - loss: 1.1945e-04\n",
      "Epoch 16/30\n",
      "\u001b[1m163/163\u001b[0m \u001b[32m━━━━━━━━━━━━━━━━━━━━\u001b[0m\u001b[37m\u001b[0m \u001b[1m57s\u001b[0m 346ms/step - accuracy: 1.0000 - loss: 8.7059e-05\n",
      "Epoch 17/30\n",
      "\u001b[1m163/163\u001b[0m \u001b[32m━━━━━━━━━━━━━━━━━━━━\u001b[0m\u001b[37m\u001b[0m \u001b[1m56s\u001b[0m 345ms/step - accuracy: 1.0000 - loss: 6.5097e-05\n",
      "Epoch 18/30\n",
      "\u001b[1m163/163\u001b[0m \u001b[32m━━━━━━━━━━━━━━━━━━━━\u001b[0m\u001b[37m\u001b[0m \u001b[1m56s\u001b[0m 345ms/step - accuracy: 1.0000 - loss: 5.2784e-05\n",
      "Epoch 19/30\n",
      "\u001b[1m163/163\u001b[0m \u001b[32m━━━━━━━━━━━━━━━━━━━━\u001b[0m\u001b[37m\u001b[0m \u001b[1m56s\u001b[0m 345ms/step - accuracy: 1.0000 - loss: 5.0483e-05\n",
      "Epoch 20/30\n",
      "\u001b[1m163/163\u001b[0m \u001b[32m━━━━━━━━━━━━━━━━━━━━\u001b[0m\u001b[37m\u001b[0m \u001b[1m57s\u001b[0m 347ms/step - accuracy: 1.0000 - loss: 4.1601e-05\n",
      "Epoch 21/30\n",
      "\u001b[1m163/163\u001b[0m \u001b[32m━━━━━━━━━━━━━━━━━━━━\u001b[0m\u001b[37m\u001b[0m \u001b[1m57s\u001b[0m 347ms/step - accuracy: 1.0000 - loss: 3.7010e-05\n",
      "Epoch 22/30\n",
      "\u001b[1m163/163\u001b[0m \u001b[32m━━━━━━━━━━━━━━━━━━━━\u001b[0m\u001b[37m\u001b[0m \u001b[1m57s\u001b[0m 347ms/step - accuracy: 1.0000 - loss: 3.1789e-05\n",
      "Epoch 23/30\n",
      "\u001b[1m163/163\u001b[0m \u001b[32m━━━━━━━━━━━━━━━━━━━━\u001b[0m\u001b[37m\u001b[0m \u001b[1m56s\u001b[0m 346ms/step - accuracy: 1.0000 - loss: 2.9638e-05\n",
      "Epoch 24/30\n",
      "\u001b[1m163/163\u001b[0m \u001b[32m━━━━━━━━━━━━━━━━━━━━\u001b[0m\u001b[37m\u001b[0m \u001b[1m56s\u001b[0m 346ms/step - accuracy: 1.0000 - loss: 2.4167e-05\n",
      "Epoch 25/30\n",
      "\u001b[1m163/163\u001b[0m \u001b[32m━━━━━━━━━━━━━━━━━━━━\u001b[0m\u001b[37m\u001b[0m \u001b[1m58s\u001b[0m 355ms/step - accuracy: 1.0000 - loss: 2.2423e-05\n",
      "Epoch 26/30\n",
      "\u001b[1m163/163\u001b[0m \u001b[32m━━━━━━━━━━━━━━━━━━━━\u001b[0m\u001b[37m\u001b[0m \u001b[1m58s\u001b[0m 355ms/step - accuracy: 1.0000 - loss: 1.9782e-05\n",
      "Epoch 27/30\n",
      "\u001b[1m163/163\u001b[0m \u001b[32m━━━━━━━━━━━━━━━━━━━━\u001b[0m\u001b[37m\u001b[0m \u001b[1m57s\u001b[0m 347ms/step - accuracy: 1.0000 - loss: 1.6231e-05\n",
      "Epoch 28/30\n",
      "\u001b[1m163/163\u001b[0m \u001b[32m━━━━━━━━━━━━━━━━━━━━\u001b[0m\u001b[37m\u001b[0m \u001b[1m57s\u001b[0m 349ms/step - accuracy: 1.0000 - loss: 1.4935e-05\n",
      "Epoch 29/30\n",
      "\u001b[1m163/163\u001b[0m \u001b[32m━━━━━━━━━━━━━━━━━━━━\u001b[0m\u001b[37m\u001b[0m \u001b[1m57s\u001b[0m 350ms/step - accuracy: 1.0000 - loss: 1.4608e-05\n",
      "Epoch 30/30\n",
      "\u001b[1m163/163\u001b[0m \u001b[32m━━━━━━━━━━━━━━━━━━━━\u001b[0m\u001b[37m\u001b[0m \u001b[1m58s\u001b[0m 356ms/step - accuracy: 1.0000 - loss: 1.2136e-05\n",
      "\u001b[1m41/41\u001b[0m \u001b[32m━━━━━━━━━━━━━━━━━━━━\u001b[0m\u001b[37m\u001b[0m \u001b[1m3s\u001b[0m 75ms/step - accuracy: 0.4126 - loss: 7.6484\n",
      "Test accuracy: 0.3969230651855469\n"
     ]
    }
   ],
   "source": [
    "class ImageClassifier:\n",
    "    def __init__(self, input_shape, num_classes):\n",
    "        self.input_shape = input_shape\n",
    "        self.num_classes = num_classes\n",
    "        self.model = self.build_model()\n",
    "\n",
    "    def build_model(self):\n",
    "        model = models.Sequential([\n",
    "            layers.Conv2D(32, (3, 3), activation='relu', input_shape=self.input_shape),\n",
    "            layers.MaxPooling2D((2, 2)),\n",
    "            layers.Conv2D(64, (3, 3), activation='relu'),\n",
    "            layers.MaxPooling2D((2, 2)),\n",
    "            layers.Conv2D(64, (3, 3), activation='relu'),\n",
    "            layers.Flatten(),\n",
    "            layers.Dense(64, activation='relu'),\n",
    "            layers.Dense(self.num_classes, activation='softmax')\n",
    "        ])\n",
    "        model.compile(optimizer='adam',\n",
    "                      loss='sparse_categorical_crossentropy',\n",
    "                      metrics=['accuracy'])\n",
    "        return model\n",
    "\n",
    "    def train(self, train_images, train_labels, epochs=30):\n",
    "        self.model.fit(train_images, train_labels, epochs=epochs)\n",
    "\n",
    "    def evaluate(self, test_images, test_labels):\n",
    "        test_loss, test_acc = self.model.evaluate(test_images, test_labels)\n",
    "        print(f'Test accuracy: {test_acc}')\n",
    "\n",
    "    def predict(self, image):\n",
    "        predictions = self.model.predict(image)\n",
    "        return predictions\n",
    "\n",
    "# Example usage:\n",
    "# Assuming you have train_images, train_labels, test_images, and test_labels\n",
    "# with shapes suitable for the input_shape and num_classes\n",
    "\n",
    "# Initialize the image classifier\n",
    "classifier = ImageClassifier(input_shape=(224, 224, 3), num_classes=75)\n",
    "\n",
    "# Train the classifier\n",
    "classifier.train(train_images, y_train, epochs=30)\n",
    "\n",
    "# Evaluate the classifier\n",
    "classifier.evaluate(test_images, y_test)\n",
    "\n",
    "# # Make predictions\n",
    "# predictions = classifier.predict(test_image)\n"
   ]
  },
  {
   "cell_type": "code",
   "execution_count": null,
   "id": "b06d3fb4-fcef-44c2-be22-4a3ba3e0c5b8",
   "metadata": {},
   "outputs": [],
   "source": []
  }
 ],
 "metadata": {
  "kernelspec": {
   "display_name": "Python 3 (ipykernel)",
   "language": "python",
   "name": "python3"
  },
  "language_info": {
   "codemirror_mode": {
    "name": "ipython",
    "version": 3
   },
   "file_extension": ".py",
   "mimetype": "text/x-python",
   "name": "python",
   "nbconvert_exporter": "python",
   "pygments_lexer": "ipython3",
   "version": "3.9.5"
  }
 },
 "nbformat": 4,
 "nbformat_minor": 5
}
